{
 "cells": [
  {
   "cell_type": "code",
   "execution_count": 1,
   "id": "30e58d18",
   "metadata": {},
   "outputs": [],
   "source": [
    "from gninatorch.gnina import setup_gnina_model\n",
    "import molgrid\n",
    "import torch\n",
    "import json\n",
    "import glob"
   ]
  },
  {
   "cell_type": "markdown",
   "id": "8125190c",
   "metadata": {},
   "source": [
    "The `gninatorch` directory referenced below can be found here: [gnina-torch](https://github.com/RMeli/gnina-torch) ."
   ]
  },
  {
   "cell_type": "code",
   "execution_count": 2,
   "id": "e468db39",
   "metadata": {},
   "outputs": [
    {
     "name": "stdout",
     "output_type": "stream",
     "text": [
      "crossdock_default2018_1.pt  dense_2.pt                general_default2018_4.pt\n",
      "crossdock_default2018_2.pt  dense_3.pt                general_default2018.pt\n",
      "crossdock_default2018_3.pt  dense_4.pt                redock_default2018_1.pt\n",
      "crossdock_default2018_4.pt  dense.pt                  redock_default2018_2.pt\n",
      "crossdock_default2018.pt    general_default2018_1.pt  redock_default2018_3.pt\n",
      "default2017.pt              general_default2018_2.pt  redock_default2018_4.pt\n",
      "dense_1.pt                  general_default2018_3.pt  redock_default2018.pt\n"
     ]
    }
   ],
   "source": [
    "ls gninatorch/weights"
   ]
  },
  {
   "cell_type": "code",
   "execution_count": 1,
   "id": "065bf0f6",
   "metadata": {},
   "outputs": [],
   "source": [
    "d = {\n",
    "    'resolution': 0.5,\n",
    "    'dimension' : 23.5,\n",
    "    'recmap' : '''AliphaticCarbonXSHydrophobe \n",
    "AliphaticCarbonXSNonHydrophobe \n",
    "AromaticCarbonXSHydrophobe \n",
    "AromaticCarbonXSNonHydrophobe\n",
    "Bromine Iodine Chlorine Fluorine\n",
    "Nitrogen NitrogenXSAcceptor \n",
    "NitrogenXSDonor NitrogenXSDonorAcceptor\n",
    "Oxygen OxygenXSAcceptor \n",
    "OxygenXSDonorAcceptor OxygenXSDonor\n",
    "Sulfur SulfurAcceptor\n",
    "Phosphorus \n",
    "Calcium\n",
    "Zinc\n",
    "GenericMetal Boron Manganese Magnesium Iron''',\n",
    "    \n",
    "'ligmap': '''AliphaticCarbonXSHydrophobe \n",
    "AliphaticCarbonXSNonHydrophobe \n",
    "AromaticCarbonXSHydrophobe \n",
    "AromaticCarbonXSNonHydrophobe\n",
    "Bromine Iodine\n",
    "Chlorine\n",
    "Fluorine\n",
    "Nitrogen NitrogenXSAcceptor \n",
    "NitrogenXSDonor NitrogenXSDonorAcceptor\n",
    "Oxygen OxygenXSAcceptor \n",
    "OxygenXSDonorAcceptor OxygenXSDonor\n",
    "Sulfur SulfurAcceptor\n",
    "Phosphorus\n",
    "GenericMetal Boron Manganese Magnesium Zinc Calcium Iron'''\n",
    "}\n",
    "\n",
    "old = {\n",
    "        'resolution': 0.5,\n",
    "    'dimension' : 23.5,\n",
    "    'recmap' : '''AliphaticCarbonXSHydrophobe\n",
    "AliphaticCarbonXSNonHydrophobe\n",
    "AromaticCarbonXSHydrophobe\n",
    "AromaticCarbonXSNonHydrophobe\n",
    "Calcium\n",
    "Iron\n",
    "Magnesium\n",
    "Nitrogen\n",
    "NitrogenXSAcceptor\n",
    "NitrogenXSDonor\n",
    "NitrogenXSDonorAcceptor\n",
    "OxygenXSAcceptor\n",
    "OxygenXSDonorAcceptor\n",
    "Phosphorus\n",
    "Sulfur\n",
    "Zinc''',\n",
    "'ligmap':'''AliphaticCarbonXSHydrophobe\n",
    "AliphaticCarbonXSNonHydrophobe\n",
    "AromaticCarbonXSHydrophobe\n",
    "AromaticCarbonXSNonHydrophobe\n",
    "Bromine\n",
    "Chlorine\n",
    "Fluorine\n",
    "Nitrogen\n",
    "NitrogenXSAcceptor\n",
    "NitrogenXSDonor\n",
    "NitrogenXSDonorAcceptor\n",
    "Oxygen\n",
    "OxygenXSAcceptor\n",
    "OxygenXSDonorAcceptor\n",
    "Phosphorus\n",
    "Sulfur\n",
    "SulfurAcceptor\n",
    "Iodine\n",
    "Boron'''\n",
    "}"
   ]
  },
  {
   "cell_type": "code",
   "execution_count": 4,
   "id": "2eb26db0",
   "metadata": {},
   "outputs": [],
   "source": [
    "for fname in glob.glob('gninatorch/weights/*.pt'):\n",
    "    newf = fname.split('/')[-1]\n",
    "    prefix = newf[:-3]\n",
    "    \n",
    "    model = setup_gnina_model(prefix)[0]\n",
    "    model.eval()\n",
    "    if 'default2017' in fname:\n",
    "        extra = {'metadata':json.dumps(old)}\n",
    "        z = torch.zeros((1,35,48,48,48))\n",
    "    else:\n",
    "        extra = {'metadata':json.dumps(d)}\n",
    "        z = torch.zeros((1,28,48,48,48))\n",
    "        \n",
    "    script = torch.jit.trace(model, z)\n",
    "    script.save(newf,_extra_files=extra)    "
   ]
  },
  {
   "cell_type": "code",
   "execution_count": 332,
   "id": "8bc2e7b1-6bae-4252-a8e5-99f338199719",
   "metadata": {},
   "outputs": [],
   "source": [
    "import torch\n",
    "import torch.nn as nn\n",
    "import torch.nn.functional as F\n",
    "\n",
    "class Overlap(nn.Module):\n",
    "    '''Compute overlap of single channel ligand and receptor'''\n",
    "    def __init__(self):\n",
    "        super().__init__()\n",
    "\n",
    "    def forward(xelf, x):\n",
    "        lig = x[:,1,:,:,:]\n",
    "        rec = x[:,0,:,:,:]\n",
    "        prot = rec * lig\n",
    "        ave = F.avg_pool3d(prot,48).flatten(1)\n",
    "        cave = torch.hstack([torch.zeros_like(ave),ave])\n",
    "        cave = -torch.log(cave)\n",
    "        cave = torch.nan_to_num(cave,posinf=0)\n",
    "        return (cave,torch.zeros((1,1),device=x.device))"
   ]
  },
  {
   "cell_type": "code",
   "execution_count": 333,
   "id": "42c4a0cf-92eb-44ab-8c30-8eb68b69d1ec",
   "metadata": {},
   "outputs": [],
   "source": [
    "x = torch.rand((1,2,48,48,48),requires_grad=True)"
   ]
  },
  {
   "cell_type": "code",
   "execution_count": 334,
   "id": "919e16e8-a2e0-40de-bfcc-4b25e12b36b1",
   "metadata": {},
   "outputs": [],
   "source": [
    "x.requires_grad = True"
   ]
  },
  {
   "cell_type": "code",
   "execution_count": 335,
   "id": "1df128b7-3b82-4b23-83b6-0fe4eb236cb9",
   "metadata": {},
   "outputs": [],
   "source": [
    "omodel = Overlap()"
   ]
  },
  {
   "cell_type": "code",
   "execution_count": 336,
   "id": "ce4f1178-344b-4e88-b148-522037192852",
   "metadata": {},
   "outputs": [],
   "source": [
    "single = {\n",
    "    'resolution': 0.5,\n",
    "    'dimension' : 23.5,\n",
    "    'skip_loss' : True,\n",
    "    'recmap' : '''AliphaticCarbonXSHydrophobe AliphaticCarbonXSNonHydrophobe AromaticCarbonXSHydrophobe AromaticCarbonXSNonHydrophobe Bromine Iodine Chlorine Fluorine Nitrogen NitrogenXSAcceptor NitrogenXSDonor NitrogenXSDonorAcceptor Oxygen OxygenXSAcceptor OxygenXSDonorAcceptor OxygenXSDonor Sulfur SulfurAcceptor Phosphorus GenericMetal Boron Manganese Magnesium Zinc Calcium Iron''',\n",
    "    'ligmap': '''AliphaticCarbonXSHydrophobe AliphaticCarbonXSNonHydrophobe AromaticCarbonXSHydrophobe AromaticCarbonXSNonHydrophobe Bromine Iodine Chlorine Fluorine Nitrogen NitrogenXSAcceptor NitrogenXSDonor NitrogenXSDonorAcceptor Oxygen OxygenXSAcceptor OxygenXSDonorAcceptor OxygenXSDonor Sulfur SulfurAcceptor Phosphorus GenericMetal Boron Manganese Magnesium Zinc Calcium Iron'''\n",
    "}"
   ]
  },
  {
   "cell_type": "code",
   "execution_count": 337,
   "id": "005b6835-1fed-4b6e-a800-5a58a228c379",
   "metadata": {},
   "outputs": [],
   "source": [
    "oscript = torch.jit.trace(omodel, x)"
   ]
  },
  {
   "cell_type": "code",
   "execution_count": 338,
   "id": "6d38f0b3-df90-4132-a263-dc5b1e884e7b",
   "metadata": {},
   "outputs": [],
   "source": [
    "oscript.save('overlap.pt',_extra_files={'metadata':json.dumps(single)})"
   ]
  },
  {
   "cell_type": "code",
   "execution_count": null,
   "id": "cac97dc0-3622-4fe5-9e49-c18372372d64",
   "metadata": {},
   "outputs": [],
   "source": []
  }
 ],
 "metadata": {
  "kernelspec": {
   "display_name": "Python 3 (ipykernel)",
   "language": "python",
   "name": "python3"
  },
  "language_info": {
   "codemirror_mode": {
    "name": "ipython",
    "version": 3
   },
   "file_extension": ".py",
   "mimetype": "text/x-python",
   "name": "python",
   "nbconvert_exporter": "python",
   "pygments_lexer": "ipython3",
   "version": "3.10.12"
  }
 },
 "nbformat": 4,
 "nbformat_minor": 5
}
